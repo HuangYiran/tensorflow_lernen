{
 "cells": [
  {
   "cell_type": "markdown",
   "metadata": {
    "collapsed": true
   },
   "source": [
    "### Visualizing the Graph\n",
    "tf.summary.FileWriter(n):<br>\n",
    "    a Python class that writes data for TensorBoard\n",
    "    \n",
    "writer = tf.summary.FileWriter(\"/logs/\")<br>\n",
    "writer.add_graph(sess.praph)\n",
    "\n",
    "other:<br>\n",
    "writer = tf.summary.FileWriter(\"logs/\", sess.graph)"
   ]
  },
  {
   "cell_type": "markdown",
   "metadata": {
    "collapsed": true
   },
   "source": [
    "### Collect some summaries\n",
    "summary(n):<br>\n",
    "    a TensorFlow op that output protocol buffers containing \"summarized\" data\n",
    "\n",
    "Examples:<br>\n",
    "- tf.summary.scalar\n",
    "- tf.summary.image\n",
    "- tf.summary.audio\n",
    "- tf.summary.histogram\n",
    "- tf.summary.histogram\n",
    "- tf.summary.tensor"
   ]
  },
  {
   "cell_type": "code",
   "execution_count": 28,
   "metadata": {
    "collapsed": true
   },
   "outputs": [],
   "source": [
    "import tensorflow as tf\n",
    "import numpy as np"
   ]
  },
  {
   "cell_type": "code",
   "execution_count": 29,
   "metadata": {
    "collapsed": true
   },
   "outputs": [],
   "source": [
    "def conv_layer(input, in_channels, out_channels, name = \"conv\"):\n",
    "    with tf.name_scope(name):\n",
    "        w = tf.Variable(tf.zeros([5, 5, in_channels, out_channels]), name = \"W\")\n",
    "        b = tf.Variable(tf.zeros([out_channels]), name = \"B\")\n",
    "        conv = tf.nn.conv2d(input, w, strides = [1, 1, 1, 1], padding = \"SAME\")\n",
    "        act = tf.nn.relu(conv + b)\n",
    "        tf.summary.histogram(\"weights\", w)\n",
    "        tf.summary.histogram(\"biasies\", b)\n",
    "        tf.summary.histogram(\"activations\", act)\n",
    "        return tf.nn.max_pool(act, ksize = [1, 2, 2, 1], strides = [1, 2, 2, 1], padding = \"SAME\")"
   ]
  },
  {
   "cell_type": "code",
   "execution_count": 30,
   "metadata": {
    "collapsed": true
   },
   "outputs": [],
   "source": [
    "def fc_layer(input, in_channels, out_channels, name = \"fc\"):\n",
    "    with tf.name_scope(name):\n",
    "        w = tf.Variable(tf.zeros([in_channels, out_channels]), name = \"W\")\n",
    "        b = tf.Variable(tf.zeros([out_channels]), name = \"B\")\n",
    "        return tf.nn.relu(tf.matmul(input, w) + b)"
   ]
  },
  {
   "cell_type": "code",
   "execution_count": 31,
   "metadata": {},
   "outputs": [
    {
     "data": {
      "text/plain": [
       "<tf.Tensor 'labels_3:0' shape=(?, 10) dtype=float32>"
      ]
     },
     "execution_count": 31,
     "metadata": {},
     "output_type": "execute_result"
    }
   ],
   "source": [
    "# setup placeholders, and reshape the data\n",
    "x = tf.placeholder(tf.float32, shape = [None, 784], name = \"X\")\n",
    "x_image = tf.reshape(x, [-1, 28, 28, 1])\n",
    "tf.summary.image('input', x_image, 3)\n",
    "y = tf.placeholder(tf.float32, shape = [None, 10], name = \"labels\")\n",
    "y"
   ]
  },
  {
   "cell_type": "code",
   "execution_count": 32,
   "metadata": {},
   "outputs": [
    {
     "data": {
      "text/plain": [
       "<tf.Tensor 'conv2_2/MaxPool:0' shape=(?, 7, 7, 64) dtype=float32>"
      ]
     },
     "execution_count": 32,
     "metadata": {},
     "output_type": "execute_result"
    }
   ],
   "source": [
    "conv1 = conv_layer(x_image, 1, 32, \"conv1\")\n",
    "conv2 = conv_layer(conv1, 32, 64, \"conv2\")\n",
    "conv2"
   ]
  },
  {
   "cell_type": "code",
   "execution_count": 33,
   "metadata": {
    "collapsed": true
   },
   "outputs": [],
   "source": [
    "flattend = tf.reshape(conv2, [-1, 7*7*64])\n",
    "fc1 = fc_layer(flattend, 7*7*64, 1024, \"fc1\")\n",
    "logits = fc_layer(fc1, 1024, 10, \"fc2\")"
   ]
  },
  {
   "cell_type": "code",
   "execution_count": 34,
   "metadata": {},
   "outputs": [
    {
     "data": {
      "text/plain": [
       "<tf.Tensor 'cross_entropy:0' shape=() dtype=string>"
      ]
     },
     "execution_count": 34,
     "metadata": {},
     "output_type": "execute_result"
    }
   ],
   "source": [
    "with tf.name_scope(\"xent\"):\n",
    "    xent = tf.reduce_mean(tf.nn.softmax_cross_entropy_with_logits(logits=logits, labels=y))\n",
    "tf.summary.scalar('cross_entropy', xent)"
   ]
  },
  {
   "cell_type": "code",
   "execution_count": 39,
   "metadata": {
    "collapsed": true
   },
   "outputs": [],
   "source": [
    "with tf.name_scope(\"train\"):\n",
    "    train_step = tf.train.AdamOptimizer(1e-4).minimize(xent)"
   ]
  },
  {
   "cell_type": "code",
   "execution_count": 36,
   "metadata": {},
   "outputs": [
    {
     "data": {
      "text/plain": [
       "<tf.Tensor 'accuracy_4:0' shape=() dtype=string>"
      ]
     },
     "execution_count": 36,
     "metadata": {},
     "output_type": "execute_result"
    }
   ],
   "source": [
    "with tf.name_scope(\"accuracy\"):\n",
    "    correct_prediction = tf.equal(tf.argmax(logits, 1), tf.argmax(y, 1))\n",
    "    accuracy = tf.reduce_mean(tf.cast(correct_prediction, tf.float32))\n",
    "tf.summary.scalar('accuracy', accuracy)"
   ]
  },
  {
   "cell_type": "code",
   "execution_count": 37,
   "metadata": {
    "collapsed": true
   },
   "outputs": [],
   "source": [
    "import tensorflow.examples.tutorials.mnist.input_data as input_data"
   ]
  },
  {
   "cell_type": "code",
   "execution_count": 38,
   "metadata": {},
   "outputs": [
    {
     "name": "stdout",
     "output_type": "stream",
     "text": [
      "Extracting MINST_data/train-images-idx3-ubyte.gz\n",
      "Extracting MINST_data/train-labels-idx1-ubyte.gz\n",
      "Extracting MINST_data/t10k-images-idx3-ubyte.gz\n",
      "Extracting MINST_data/t10k-labels-idx1-ubyte.gz\n",
      "step 0, training accuracy 0.08\n",
      "step 500, training accuracy 0.14\n",
      "step 1000, training accuracy 0.09\n",
      "step 1500, training accuracy 0.06\n"
     ]
    }
   ],
   "source": [
    "## train the model\n",
    "#input_data = tf.examples.tutorials.mnist.input_data\n",
    "mnist = input_data.read_data_sets(\"MINST_data/\", one_hot = True)\n",
    "\n",
    "with tf.Session() as sess:\n",
    "    # initialize all the variables\n",
    "    sess.run(tf.global_variables_initializer())\n",
    "    #tf.summary\n",
    "    merged_summary = tf.summary.merge_all()\n",
    "    writer = tf.summary.FileWriter(\"logs/\", sess.graph)\n",
    "    # train\n",
    "    for i in range(2000):\n",
    "        batch = mnist.train.next_batch(100)\n",
    "        if i % 500 == 0:\n",
    "            [train_accuracy] = sess.run([accuracy], feed_dict = {x: batch[0], y: batch[1]})\n",
    "            print(\"step %d, training accuracy %g\" %(i, train_accuracy))\n",
    "        sess.run(train_step, feed_dict = {x: batch[0], y: batch[1]})"
   ]
  },
  {
   "cell_type": "code",
   "execution_count": null,
   "metadata": {
    "collapsed": true
   },
   "outputs": [],
   "source": []
  }
 ],
 "metadata": {
  "kernelspec": {
   "display_name": "Python 3",
   "language": "python",
   "name": "python3"
  },
  "language_info": {
   "codemirror_mode": {
    "name": "ipython",
    "version": 3
   },
   "file_extension": ".py",
   "mimetype": "text/x-python",
   "name": "python",
   "nbconvert_exporter": "python",
   "pygments_lexer": "ipython3",
   "version": "3.6.1"
  }
 },
 "nbformat": 4,
 "nbformat_minor": 2
}
