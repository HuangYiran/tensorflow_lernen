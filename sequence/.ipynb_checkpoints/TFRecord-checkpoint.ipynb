{
 "cells": [
  {
   "cell_type": "markdown",
   "metadata": {},
   "source": [
    "## write all example into tmpfile "
   ]
  },
  {
   "cell_type": "code",
   "execution_count": 105,
   "metadata": {
    "collapsed": true
   },
   "outputs": [],
   "source": [
    "import tensorflow as tf\n",
    "import numpy as np\n",
    "import tempfile"
   ]
  },
  {
   "cell_type": "code",
   "execution_count": 106,
   "metadata": {
    "collapsed": true
   },
   "outputs": [],
   "source": [
    "sequences = [[1, 2, 3], [4, 5, 1], [1, 2]]\n",
    "label_sequences = [[0, 1, 0], [1, 0, 0], [1, 0]]"
   ]
  },
  {
   "cell_type": "code",
   "execution_count": 152,
   "metadata": {
    "collapsed": true
   },
   "outputs": [],
   "source": [
    "def make_example(sequence, labels):\n",
    "    ex = tf.train.SequenceExample()\n",
    "    sequence_length = len(sequence)\n",
    "    ex.context.feature[\"length\"].int64_list.value.append(sequence_length)\n",
    "    f1_tokens = ex.feature_lists.feature_list[\"tokens\"]\n",
    "    f1_labels = ex.feature_lists.feature_list[\"labels\"]\n",
    "    for token, label in zip(sequence, labels):\n",
    "        f1_tokens.feature.add().int64_list.value.append(token)\n",
    "        f1_labels.feature.add().int64_list.value.append(label)\n",
    "    return ex"
   ]
  },
  {
   "cell_type": "code",
   "execution_count": 153,
   "metadata": {},
   "outputs": [
    {
     "name": "stdout",
     "output_type": "stream",
     "text": [
      "write to /var/folders/_b/sqy4xdk94173jznnv1lr9xd00000gn/T/tmpIZXSTs\n"
     ]
    }
   ],
   "source": [
    "#write all example into tmpfile \n",
    "with tempfile.NamedTemporaryFile() as fp:\n",
    "    writer = tf.python_io.TFRecordWriter(fp.name)\n",
    "    for sequence, label_sequence in zip(sequences, label_sequences):\n",
    "        ex = make_example(sequence, label_sequence)\n",
    "        writer.write(ex.SerializeToString())\n",
    "    writer.close()\n",
    "    print(\"write to {}\".format(fp.name))"
   ]
  },
  {
   "cell_type": "markdown",
   "metadata": {},
   "source": [
    "### save training image into TFRecord file"
   ]
  },
  {
   "cell_type": "code",
   "execution_count": 303,
   "metadata": {
    "collapsed": true
   },
   "outputs": [],
   "source": [
    "import io\n",
    "import os\n",
    "from PIL import Image"
   ]
  },
  {
   "cell_type": "code",
   "execution_count": 304,
   "metadata": {},
   "outputs": [
    {
     "data": {
      "text/plain": [
       "'/Users/ihuangyiran/Documents/Workplace_Python/Tensorflow_lernen/sequence/animals'"
      ]
     },
     "execution_count": 304,
     "metadata": {},
     "output_type": "execute_result"
    }
   ],
   "source": [
    "cwd = os.getcwd()\n",
    "writer = tf.python_io.TFRecordWriter(\"train.tfrecords\")\n",
    "cwd += \"/animals\"\n",
    "cwd"
   ]
  },
  {
   "cell_type": "code",
   "execution_count": 296,
   "metadata": {},
   "outputs": [],
   "source": [
    "classes = {\"bear\", \"deer\", \"duck\", \"turtle\"}\n",
    "classes\n",
    "for index, name in enumerate(classes):\n",
    "    class_path = cwd + \"/\" + name\n",
    "    for image_name in os.listdir(class_path):\n",
    "        img_path = class_path + \"/\" + image_name\n",
    "        img = Image.open(img_path)\n",
    "        img = img.resize((224,224))\n",
    "        img_raw = tf.compat.as_bytes(img.tostring())\n",
    "        ex = tf.train.SequenceExample()\n",
    "        ex_index = ex.feature_lists.feature_list[\"index\"]\n",
    "        ex_img_raw = ex.feature_lists.feature_list[\"img_raw\"]\n",
    "        ex_index.feature.add().int64_list.value.append(index)\n",
    "        ex_img_raw.feature.add().bytes_list.value.append(img_raw)\n",
    "        writer.write(ex.SerializeToString())\n",
    "writer.close()\n"
   ]
  },
  {
   "cell_type": "markdown",
   "metadata": {},
   "source": [
    "### read sequence file"
   ]
  },
  {
   "cell_type": "code",
   "execution_count": 297,
   "metadata": {},
   "outputs": [
    {
     "name": "stdout",
     "output_type": "stream",
     "text": [
      "0\n",
      "Tensor(\"Reshape_1173:0\", shape=(224, 224), dtype=float32)\n",
      "0\n",
      "Tensor(\"Reshape_1174:0\", shape=(224, 224), dtype=float32)\n",
      "0\n",
      "Tensor(\"Reshape_1175:0\", shape=(224, 224), dtype=float32)\n",
      "0\n",
      "Tensor(\"Reshape_1176:0\", shape=(224, 224), dtype=float32)\n",
      "0\n",
      "Tensor(\"Reshape_1177:0\", shape=(224, 224), dtype=float32)\n",
      "0\n",
      "Tensor(\"Reshape_1178:0\", shape=(224, 224), dtype=float32)\n",
      "0\n",
      "Tensor(\"Reshape_1179:0\", shape=(224, 224), dtype=float32)\n",
      "0\n",
      "Tensor(\"Reshape_1180:0\", shape=(224, 224), dtype=float32)\n",
      "0\n",
      "Tensor(\"Reshape_1181:0\", shape=(224, 224), dtype=float32)\n",
      "0\n",
      "Tensor(\"Reshape_1182:0\", shape=(224, 224), dtype=float32)\n",
      "0\n",
      "Tensor(\"Reshape_1183:0\", shape=(224, 224), dtype=float32)\n",
      "0\n",
      "Tensor(\"Reshape_1184:0\", shape=(224, 224), dtype=float32)\n",
      "0\n",
      "Tensor(\"Reshape_1185:0\", shape=(224, 224), dtype=float32)\n",
      "0\n",
      "Tensor(\"Reshape_1186:0\", shape=(224, 224), dtype=float32)\n",
      "0\n",
      "Tensor(\"Reshape_1187:0\", shape=(224, 224), dtype=float32)\n",
      "0\n",
      "Tensor(\"Reshape_1188:0\", shape=(224, 224), dtype=float32)\n",
      "0\n",
      "Tensor(\"Reshape_1189:0\", shape=(224, 224), dtype=float32)\n",
      "0\n",
      "Tensor(\"Reshape_1190:0\", shape=(224, 224), dtype=float32)\n",
      "0\n",
      "Tensor(\"Reshape_1191:0\", shape=(224, 224), dtype=float32)\n",
      "0\n",
      "Tensor(\"Reshape_1192:0\", shape=(224, 224), dtype=float32)\n",
      "1\n",
      "Tensor(\"Reshape_1193:0\", shape=(224, 224), dtype=float32)\n",
      "1\n",
      "Tensor(\"Reshape_1194:0\", shape=(224, 224), dtype=float32)\n",
      "1\n",
      "Tensor(\"Reshape_1195:0\", shape=(224, 224), dtype=float32)\n",
      "1\n",
      "Tensor(\"Reshape_1196:0\", shape=(224, 224), dtype=float32)\n",
      "1\n",
      "Tensor(\"Reshape_1197:0\", shape=(224, 224), dtype=float32)\n",
      "1\n",
      "Tensor(\"Reshape_1198:0\", shape=(224, 224), dtype=float32)\n",
      "1\n",
      "Tensor(\"Reshape_1199:0\", shape=(224, 224), dtype=float32)\n",
      "1\n",
      "Tensor(\"Reshape_1200:0\", shape=(224, 224), dtype=float32)\n",
      "1\n",
      "Tensor(\"Reshape_1201:0\", shape=(224, 224), dtype=float32)\n",
      "1\n",
      "Tensor(\"Reshape_1202:0\", shape=(224, 224), dtype=float32)\n",
      "1\n",
      "Tensor(\"Reshape_1203:0\", shape=(224, 224), dtype=float32)\n",
      "1\n",
      "Tensor(\"Reshape_1204:0\", shape=(224, 224), dtype=float32)\n",
      "1\n",
      "Tensor(\"Reshape_1205:0\", shape=(224, 224), dtype=float32)\n",
      "1\n",
      "Tensor(\"Reshape_1206:0\", shape=(224, 224), dtype=float32)\n",
      "1\n",
      "Tensor(\"Reshape_1207:0\", shape=(224, 224), dtype=float32)\n",
      "1\n",
      "Tensor(\"Reshape_1208:0\", shape=(224, 224), dtype=float32)\n",
      "1\n",
      "Tensor(\"Reshape_1209:0\", shape=(224, 224), dtype=float32)\n",
      "1\n",
      "Tensor(\"Reshape_1210:0\", shape=(224, 224), dtype=float32)\n",
      "1\n",
      "Tensor(\"Reshape_1211:0\", shape=(224, 224), dtype=float32)\n",
      "1\n",
      "Tensor(\"Reshape_1212:0\", shape=(224, 224), dtype=float32)\n",
      "2\n",
      "Tensor(\"Reshape_1213:0\", shape=(224, 224), dtype=float32)\n",
      "2\n",
      "Tensor(\"Reshape_1214:0\", shape=(224, 224), dtype=float32)\n",
      "2\n",
      "Tensor(\"Reshape_1215:0\", shape=(224, 224), dtype=float32)\n",
      "2\n",
      "Tensor(\"Reshape_1216:0\", shape=(224, 224), dtype=float32)\n",
      "2\n",
      "Tensor(\"Reshape_1217:0\", shape=(224, 224), dtype=float32)\n",
      "2\n",
      "Tensor(\"Reshape_1218:0\", shape=(224, 224), dtype=float32)\n",
      "2\n",
      "Tensor(\"Reshape_1219:0\", shape=(224, 224), dtype=float32)\n",
      "2\n",
      "Tensor(\"Reshape_1220:0\", shape=(224, 224), dtype=float32)\n",
      "2\n",
      "Tensor(\"Reshape_1221:0\", shape=(224, 224), dtype=float32)\n",
      "2\n",
      "Tensor(\"Reshape_1222:0\", shape=(224, 224), dtype=float32)\n",
      "2\n",
      "Tensor(\"Reshape_1223:0\", shape=(224, 224), dtype=float32)\n",
      "2\n",
      "Tensor(\"Reshape_1224:0\", shape=(224, 224), dtype=float32)\n",
      "2\n",
      "Tensor(\"Reshape_1225:0\", shape=(224, 224), dtype=float32)\n",
      "2\n",
      "Tensor(\"Reshape_1226:0\", shape=(224, 224), dtype=float32)\n",
      "2\n",
      "Tensor(\"Reshape_1227:0\", shape=(224, 224), dtype=float32)\n",
      "2\n",
      "Tensor(\"Reshape_1228:0\", shape=(224, 224), dtype=float32)\n",
      "2\n",
      "Tensor(\"Reshape_1229:0\", shape=(224, 224), dtype=float32)\n",
      "2\n",
      "Tensor(\"Reshape_1230:0\", shape=(224, 224), dtype=float32)\n",
      "2\n",
      "Tensor(\"Reshape_1231:0\", shape=(224, 224), dtype=float32)\n",
      "2\n",
      "Tensor(\"Reshape_1232:0\", shape=(224, 224), dtype=float32)\n",
      "2\n",
      "Tensor(\"Reshape_1233:0\", shape=(224, 224), dtype=float32)\n",
      "2\n",
      "Tensor(\"Reshape_1234:0\", shape=(224, 224), dtype=float32)\n",
      "3\n",
      "Tensor(\"Reshape_1235:0\", shape=(224, 224), dtype=float32)\n",
      "3\n",
      "Tensor(\"Reshape_1236:0\", shape=(224, 224), dtype=float32)\n",
      "3\n",
      "Tensor(\"Reshape_1237:0\", shape=(224, 224), dtype=float32)\n",
      "3\n",
      "Tensor(\"Reshape_1238:0\", shape=(224, 224), dtype=float32)\n",
      "3\n",
      "Tensor(\"Reshape_1239:0\", shape=(224, 224), dtype=float32)\n",
      "3\n",
      "Tensor(\"Reshape_1240:0\", shape=(224, 224), dtype=float32)\n",
      "3\n",
      "Tensor(\"Reshape_1241:0\", shape=(224, 224), dtype=float32)\n",
      "3\n",
      "Tensor(\"Reshape_1242:0\", shape=(224, 224), dtype=float32)\n",
      "3\n",
      "Tensor(\"Reshape_1243:0\", shape=(224, 224), dtype=float32)\n",
      "3\n",
      "Tensor(\"Reshape_1244:0\", shape=(224, 224), dtype=float32)\n",
      "3\n",
      "Tensor(\"Reshape_1245:0\", shape=(224, 224), dtype=float32)\n",
      "3\n",
      "Tensor(\"Reshape_1246:0\", shape=(224, 224), dtype=float32)\n",
      "3\n",
      "Tensor(\"Reshape_1247:0\", shape=(224, 224), dtype=float32)\n",
      "3\n",
      "Tensor(\"Reshape_1248:0\", shape=(224, 224), dtype=float32)\n",
      "3\n",
      "Tensor(\"Reshape_1249:0\", shape=(224, 224), dtype=float32)\n",
      "3\n",
      "Tensor(\"Reshape_1250:0\", shape=(224, 224), dtype=float32)\n",
      "3\n",
      "Tensor(\"Reshape_1251:0\", shape=(224, 224), dtype=float32)\n",
      "3\n",
      "Tensor(\"Reshape_1252:0\", shape=(224, 224), dtype=float32)\n",
      "3\n",
      "Tensor(\"Reshape_1253:0\", shape=(224, 224), dtype=float32)\n",
      "3\n",
      "Tensor(\"Reshape_1254:0\", shape=(224, 224), dtype=float32)\n",
      "3\n",
      "Tensor(\"Reshape_1255:0\", shape=(224, 224), dtype=float32)\n"
     ]
    }
   ],
   "source": [
    "for serialized_example in tf.python_io.tf_record_iterator(\"train.tfrecords\"):\n",
    "    ex = tf.train.SequenceExample()\n",
    "    ex.ParseFromString(serialized_example)\n",
    "    feature_index = ex.feature_lists.feature_list['index']\n",
    "    feature_image = ex.feature_lists.feature_list[\"img_raw\"]\n",
    "    print feature_index.feature.pop().int64_list.value[0]\n",
    "    image = tf.decode_raw(str(feature_image), tf.float32)\n",
    "    image = tf.reshape(image, [224,224])\n",
    "    print image"
   ]
  },
  {
   "cell_type": "markdown",
   "metadata": {},
   "source": [
    "### save image in TFRecord: stype 2"
   ]
  },
  {
   "cell_type": "code",
   "execution_count": 305,
   "metadata": {},
   "outputs": [],
   "source": [
    "#convert data to features\n",
    "def _int64_feature(value):\n",
    "    return tf.train.Feature(int64_list = tf.train.Int64List(value = [value]))\n",
    "def _bytes_feature(value):\n",
    "    return tf.train.Feature(bytes_list = tf.train.BytesList(value = [value]))\n",
    "\n",
    "classes = {\"bear\", \"deer\", \"duck\", \"turtle\"}\n",
    "\n",
    "for index, name in enumerate(classes):\n",
    "    class_path = cwd + \"/\" + name\n",
    "    for image_name in os.listdir(class_path):\n",
    "        img_path = class_path + \"/\" + image_name\n",
    "        img = Image.open(img_path)\n",
    "        img = img.resize((224,224))\n",
    "        img_raw = tf.compat.as_bytes(img.tostring())\n",
    "        #create feature\n",
    "        feature = {\n",
    "            'index' : _int64_feature(index),\n",
    "            'img_raw' : _bytes_feature(img_raw)\n",
    "        }\n",
    "        #create an example protocol buffer\n",
    "        ex = tf.train.Example(features = tf.train.Features(feature = feature))\n",
    "        #serialize to string and write on the file\n",
    "        writer.write(ex.SerializeToString())\n",
    "writer.close()"
   ]
  },
  {
   "cell_type": "markdown",
   "metadata": {},
   "source": [
    "### read data: stype 2"
   ]
  },
  {
   "cell_type": "code",
   "execution_count": 318,
   "metadata": {},
   "outputs": [
    {
     "ename": "AttributeError",
     "evalue": "'module' object has no attribute 'run_n'",
     "output_type": "error",
     "traceback": [
      "\u001b[0;31m---------------------------------------------------------------------------\u001b[0m",
      "\u001b[0;31mAttributeError\u001b[0m                            Traceback (most recent call last)",
      "\u001b[0;32m<ipython-input-318-335fbe490ce8>\u001b[0m in \u001b[0;36m<module>\u001b[0;34m()\u001b[0m\n\u001b[1;32m     20\u001b[0m         \u001b[0;31m#index = tf.cast(features['index'], tf.int32)\u001b[0m\u001b[0;34m\u001b[0m\u001b[0;34m\u001b[0m\u001b[0m\n\u001b[1;32m     21\u001b[0m         \u001b[0;31m#print index\u001b[0m\u001b[0;34m\u001b[0m\u001b[0;34m\u001b[0m\u001b[0m\n\u001b[0;32m---> 22\u001b[0;31m         \u001b[0mfeature\u001b[0m \u001b[0;34m=\u001b[0m \u001b[0mtf\u001b[0m\u001b[0;34m.\u001b[0m\u001b[0mcontrib\u001b[0m\u001b[0;34m.\u001b[0m\u001b[0mlearn\u001b[0m\u001b[0;34m.\u001b[0m\u001b[0mrun_n\u001b[0m\u001b[0;34m(\u001b[0m\u001b[0mfeatures_parsed\u001b[0m\u001b[0;34m,\u001b[0m \u001b[0mn\u001b[0m\u001b[0;34m=\u001b[0m\u001b[0;36m1\u001b[0m\u001b[0;34m,\u001b[0m \u001b[0mfeed_dict\u001b[0m\u001b[0;34m=\u001b[0m\u001b[0mNone\u001b[0m\u001b[0;34m)\u001b[0m\u001b[0;34m\u001b[0m\u001b[0m\n\u001b[0m\u001b[1;32m     23\u001b[0m \u001b[0;34m\u001b[0m\u001b[0m\n\u001b[1;32m     24\u001b[0m         \u001b[0;31m#Initialize all global and local variables\u001b[0m\u001b[0;34m\u001b[0m\u001b[0;34m\u001b[0m\u001b[0m\n",
      "\u001b[0;31mAttributeError\u001b[0m: 'module' object has no attribute 'run_n'"
     ]
    }
   ],
   "source": [
    "import matplotlib \n",
    "\n",
    "tf.reset_default_graph()\n",
    "\n",
    "with tf.Session() as sess:    \n",
    "    data_path = 'train.tfrecords'\n",
    "    feature = {\n",
    "        'index': tf.FixedLenFeature([], tf.int64),\n",
    "        'img_raw': tf.FixedLenFeature([], tf.string)\n",
    "    }\n",
    "    \n",
    "    for serialized_example in tf.python_io.tf_record_iterator(data_path):\n",
    "        #decode the record read by the reader\n",
    "        features_parsed = tf.parse_single_example(serialized_example, features = feature)\n",
    "        #Convert the image data from string back to the numbers\n",
    "        image = tf.decode_raw(features['img_raw'], tf.float32)\n",
    "        image = tf.reshape(image, [224, 224])\n",
    "        #print image\n",
    "        #Cast label data into int32\n",
    "        index = tf.cast(features['index'], tf.int32)\n",
    "        print index\n"
   ]
  },
  {
   "cell_type": "markdown",
   "metadata": {},
   "source": [
    "###第二个是瞎搞的，"
   ]
  }
 ],
 "metadata": {
  "kernelspec": {
   "display_name": "Python2-tf",
   "language": "python",
   "name": "python2"
  },
  "language_info": {
   "codemirror_mode": {
    "name": "ipython",
    "version": 2
   },
   "file_extension": ".py",
   "mimetype": "text/x-python",
   "name": "python",
   "nbconvert_exporter": "python",
   "pygments_lexer": "ipython2",
   "version": "2.7.13"
  }
 },
 "nbformat": 4,
 "nbformat_minor": 2
}
