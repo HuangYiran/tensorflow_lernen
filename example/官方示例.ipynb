{
 "cells": [
  {
   "cell_type": "markdown",
   "metadata": {},
   "source": [
    "### 首先需要了解tensorflow是如何完成下列任务的\n",
    "\n",
    "* 将计算流表示成图\n",
    "* 通过Session来执行图\n",
    "* 将数据表示成tensorflow\n",
    "* 使用Variable来表示状态信息\n",
    "* 使用fetch和feeds来填充数据和抓取任意结果"
   ]
  },
  {
   "cell_type": "code",
   "execution_count": 1,
   "metadata": {
    "collapsed": true
   },
   "outputs": [],
   "source": [
    "import tensorflow as tf\n",
    "import numpy as np"
   ]
  },
  {
   "cell_type": "code",
   "execution_count": 5,
   "metadata": {},
   "outputs": [
    {
     "data": {
      "text/plain": [
       "array([[ 0.4095155 ,  0.62098932,  0.73613423,  0.44134474,  0.02147427,\n",
       "         0.00329146,  0.84169024,  0.25304544,  0.24475256,  0.30042076,\n",
       "         0.5122382 ,  0.10116643,  0.75240558,  0.62254262,  0.72217065,\n",
       "         0.42634925,  0.73795593,  0.6421054 ,  0.08119749,  0.03928931,\n",
       "         0.54419696,  0.71319836,  0.56867683,  0.84489644,  0.97646171,\n",
       "         0.74187195,  0.55997992,  0.32317033,  0.91528887,  0.95536387,\n",
       "         0.59951389,  0.01568724,  0.09694634,  0.2098752 ,  0.27049011,\n",
       "         0.41702569,  0.70760334,  0.45342079,  0.78695101,  0.35667682,\n",
       "         0.20394744,  0.83206457,  0.19434415,  0.21203561,  0.78941011,\n",
       "         0.14971672,  0.08126041,  0.14463043,  0.4116441 ,  0.90471011,\n",
       "         0.78110409,  0.93782794,  0.72514522,  0.02712174,  0.22935559,\n",
       "         0.2118759 ,  0.45120507,  0.67681676,  0.54613894,  0.69329876,\n",
       "         0.10137999,  0.73824912,  0.57755357,  0.43849477,  0.30162403,\n",
       "         0.10603599,  0.88528353,  0.02643649,  0.7567715 ,  0.49643359,\n",
       "         0.96602952,  0.57685888,  0.0443236 ,  0.19995549,  0.37227902,\n",
       "         0.55056489,  0.42285496,  0.81783831,  0.20634098,  0.36217165,\n",
       "         0.15931834,  0.69681096,  0.3641662 ,  0.1728934 ,  0.96838027,\n",
       "         0.57602131,  0.52063787,  0.25323379,  0.25125435,  0.66512161,\n",
       "         0.56494874,  0.67290056,  0.33409443,  0.4284206 ,  0.19967084,\n",
       "         0.76382416,  0.89365608,  0.58186036,  0.85921681,  0.77582115],\n",
       "       [ 0.78942764,  0.2632443 ,  0.06190189,  0.26568449,  0.47546244,\n",
       "         0.57673341,  0.90402418,  0.72446793,  0.30467957,  0.01642319,\n",
       "         0.46611544,  0.1365618 ,  0.47782645,  0.06408136,  0.83740807,\n",
       "         0.74240214,  0.89209813,  0.35277602,  0.23937744,  0.21453345,\n",
       "         0.83133256,  0.27631572,  0.26934716,  0.81880343,  0.22448525,\n",
       "         0.36480871,  0.56259495,  0.77172554,  0.44593379,  0.55995667,\n",
       "         0.86278725,  0.85925168,  0.89136153,  0.29963627,  0.41275263,\n",
       "         0.71411574,  0.56206143,  0.83947647,  0.96956182,  0.69180608,\n",
       "         0.7771641 ,  0.27863061,  0.39150086,  0.42001057,  0.07742946,\n",
       "         0.91404951,  0.60273182,  0.44455838,  0.6186561 ,  0.87189662,\n",
       "         0.77186626,  0.83358419,  0.85395706,  0.22042665,  0.99620372,\n",
       "         0.77917606,  0.18298428,  0.83474791,  0.68512899,  0.37792805,\n",
       "         0.70849401,  0.75248295,  0.33833987,  0.6543175 ,  0.81820303,\n",
       "         0.02834511,  0.70406324,  0.57739276,  0.7937957 ,  0.90881139,\n",
       "         0.07022908,  0.3199082 ,  0.41843167,  0.17814679,  0.01247012,\n",
       "         0.35615239,  0.49819061,  0.56746912,  0.47157356,  0.59792078,\n",
       "         0.36910734,  0.09947049,  0.76320791,  0.51861197,  0.4493674 ,\n",
       "         0.11896503,  0.83404458,  0.64715165,  0.61892021,  0.64639586,\n",
       "         0.91960484,  0.21379231,  0.75540668,  0.51950723,  0.03429018,\n",
       "         0.13975365,  0.28932112,  0.36062548,  0.61333615,  0.29722568]], dtype=float32)"
      ]
     },
     "execution_count": 5,
     "metadata": {},
     "output_type": "execute_result"
    }
   ],
   "source": [
    "#random value in a given shape: np.random.rand(d0, d1, ...)\n",
    "x_data = np.float32(np.random.rand(2, 100))\n",
    "x_data"
   ]
  },
  {
   "cell_type": "code",
   "execution_count": 6,
   "metadata": {},
   "outputs": [
    {
     "data": {
      "text/plain": [
       "array([ 0.49883708,  0.41474779,  0.3859938 ,  0.39727137,  0.39723991,\n",
       "        0.41567583,  0.56497386,  0.47019813,  0.38541117,  0.33332671,\n",
       "        0.44444691,  0.337429  ,  0.47080585,  0.37507053,  0.53969868,\n",
       "        0.49111535,  0.55221522,  0.43476574,  0.35599524,  0.34683562,\n",
       "        0.52068621,  0.42658298,  0.41073712,  0.54825033,  0.44254322,\n",
       "        0.44714894,  0.46851698,  0.48666214,  0.48071564,  0.50752772,\n",
       "        0.53250884,  0.47341906,  0.48796694,  0.38091477,  0.40959954,\n",
       "        0.48452572,  0.48317262,  0.51323737,  0.57260746,  0.4740289 ,\n",
       "        0.47582756,  0.43893258,  0.39773459,  0.40520567,  0.3944269 ,\n",
       "        0.49778157,  0.42867241,  0.40337472,  0.46489563,  0.56485034,\n",
       "        0.53248366,  0.56049963,  0.54330593,  0.3467975 ,  0.5221763 ,\n",
       "        0.4770228 ,  0.38171736,  0.53463126,  0.49163969,  0.44491549,\n",
       "        0.4518368 ,  0.5243215 ,  0.42542333,  0.47471298,  0.49380301,\n",
       "        0.31627262,  0.529341  ,  0.4181222 ,  0.53443629,  0.53140564,\n",
       "        0.41064877,  0.42166753,  0.38811869,  0.35562491,  0.33972193,\n",
       "        0.42628697,  0.44192362,  0.49527766,  0.41494881,  0.45580132,\n",
       "        0.3897533 ,  0.38957519,  0.4890582 ,  0.42101173,  0.48671151,\n",
       "        0.38139514,  0.5188727 ,  0.45475371,  0.44890948,  0.49579133,\n",
       "        0.54041584,  0.41004852,  0.48449078,  0.44674351,  0.32682512,\n",
       "        0.40433315,  0.44722983,  0.43031113,  0.50858891,  0.43702725])"
      ]
     },
     "execution_count": 6,
     "metadata": {},
     "output_type": "execute_result"
    }
   ],
   "source": [
    "y_data = np.dot([0.1, 0.2], x_data) + 0.3\n",
    "y_data"
   ]
  },
  {
   "cell_type": "code",
   "execution_count": 10,
   "metadata": {},
   "outputs": [
    {
     "data": {
      "text/plain": [
       "<tensorflow.python.ops.variables.Variable at 0x10808cb50>"
      ]
     },
     "execution_count": 10,
     "metadata": {},
     "output_type": "execute_result"
    }
   ],
   "source": [
    "b = tf.Variable(tf.zeros([1]))\n",
    "b"
   ]
  },
  {
   "cell_type": "code",
   "execution_count": 11,
   "metadata": {},
   "outputs": [
    {
     "data": {
      "text/plain": [
       "<tensorflow.python.ops.variables.Variable at 0x10805bfd0>"
      ]
     },
     "execution_count": 11,
     "metadata": {},
     "output_type": "execute_result"
    }
   ],
   "source": [
    "#tf.random_uniform(shape, min, max, ...) output random value from a uniform distribution\n",
    "w = tf.Variable(tf.random_uniform([1, 2], -1.0, 1.0))\n",
    "w"
   ]
  },
  {
   "cell_type": "code",
   "execution_count": 12,
   "metadata": {},
   "outputs": [
    {
     "data": {
      "text/plain": [
       "<tf.Tensor 'add:0' shape=(1, 100) dtype=float32>"
      ]
     },
     "execution_count": 12,
     "metadata": {},
     "output_type": "execute_result"
    }
   ],
   "source": [
    "y = tf.matmul(w, x_data) + b\n",
    "y"
   ]
  },
  {
   "cell_type": "code",
   "execution_count": 14,
   "metadata": {},
   "outputs": [
    {
     "data": {
      "text/plain": [
       "<tf.Tensor 'Mean:0' shape=() dtype=float32>"
      ]
     },
     "execution_count": 14,
     "metadata": {},
     "output_type": "execute_result"
    }
   ],
   "source": [
    "#tf.reduce_mean() computes the means of elements across the dimension of the tensor\n",
    "loss = tf.reduce_mean(tf.square(y - y_data))\n",
    "loss"
   ]
  },
  {
   "cell_type": "code",
   "execution_count": 15,
   "metadata": {},
   "outputs": [
    {
     "data": {
      "text/plain": [
       "<tensorflow.python.training.gradient_descent.GradientDescentOptimizer at 0x106a7e550>"
      ]
     },
     "execution_count": 15,
     "metadata": {},
     "output_type": "execute_result"
    }
   ],
   "source": [
    "#construct a gradient descent optimizer\n",
    "optimizer = tf.train.GradientDescentOptimizer(0.5)\n",
    "optimizer"
   ]
  },
  {
   "cell_type": "code",
   "execution_count": 17,
   "metadata": {},
   "outputs": [
    {
     "data": {
      "text/plain": [
       "<tensorflow.python.framework.ops.Operation at 0x1081b7410>"
      ]
     },
     "execution_count": 17,
     "metadata": {},
     "output_type": "execute_result"
    }
   ],
   "source": [
    "train = optimizer.minimize(loss)\n",
    "train"
   ]
  },
  {
   "cell_type": "code",
   "execution_count": 20,
   "metadata": {},
   "outputs": [
    {
     "data": {
      "text/plain": [
       "<tensorflow.python.framework.ops.Operation at 0x1081048d0>"
      ]
     },
     "execution_count": 20,
     "metadata": {},
     "output_type": "execute_result"
    }
   ],
   "source": [
    "init = tf.initialize_all_variables()\n",
    "init"
   ]
  },
  {
   "cell_type": "code",
   "execution_count": 22,
   "metadata": {},
   "outputs": [
    {
     "data": {
      "text/plain": [
       "<tensorflow.python.client.session.Session at 0x1081308d0>"
      ]
     },
     "execution_count": 22,
     "metadata": {},
     "output_type": "execute_result"
    }
   ],
   "source": [
    "#setup graph\n",
    "sess = tf.Session()\n",
    "sess.run(init)\n",
    "sess"
   ]
  },
  {
   "cell_type": "code",
   "execution_count": 23,
   "metadata": {},
   "outputs": [
    {
     "name": "stdout",
     "output_type": "stream",
     "text": [
      "0 [[ 0.50887024  0.23290685]] [ 0.14618506]\n",
      "20 [[ 0.20318723  0.22947931]] [ 0.23115708]\n",
      "40 [[ 0.1294816   0.21611008]] [ 0.2761291]\n",
      "60 [[ 0.10893141  0.20689508]] [ 0.29166725]\n",
      "80 [[ 0.10283893  0.20268954]] [ 0.29707924]\n",
      "100 [[ 0.1009353   0.20100337]] [ 0.29897365]\n",
      "120 [[ 0.10031589  0.20036553]] [ 0.29963878]\n",
      "140 [[ 0.10010845  0.20013142]] [ 0.29987276]\n",
      "160 [[ 0.10003762  0.20004688]] [ 0.29995516]\n",
      "180 [[ 0.10001313  0.20001663]] [ 0.29998419]\n",
      "200 [[ 0.10000458  0.20000587]] [ 0.29999444]\n"
     ]
    }
   ],
   "source": [
    "for step in xrange(0, 201):\n",
    "    sess.run(train)\n",
    "    if step % 20 == 0:\n",
    "        print step, sess.run(w), sess.run(b)"
   ]
  },
  {
   "cell_type": "code",
   "execution_count": 24,
   "metadata": {
    "collapsed": true
   },
   "outputs": [],
   "source": [
    "sess.close()"
   ]
  },
  {
   "cell_type": "code",
   "execution_count": null,
   "metadata": {
    "collapsed": true
   },
   "outputs": [],
   "source": []
  }
 ],
 "metadata": {
  "kernelspec": {
   "display_name": "Python2-tf",
   "language": "python",
   "name": "python2"
  },
  "language_info": {
   "codemirror_mode": {
    "name": "ipython",
    "version": 2
   },
   "file_extension": ".py",
   "mimetype": "text/x-python",
   "name": "python",
   "nbconvert_exporter": "python",
   "pygments_lexer": "ipython2",
   "version": "2.7.13"
  }
 },
 "nbformat": 4,
 "nbformat_minor": 2
}
