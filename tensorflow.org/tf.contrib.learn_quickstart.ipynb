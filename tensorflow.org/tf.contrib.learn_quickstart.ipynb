{
 "cells": [
  {
   "cell_type": "code",
   "execution_count": 1,
   "metadata": {
    "collapsed": true
   },
   "outputs": [],
   "source": [
    "from __future__ import absolute_import\n",
    "from __future__ import division\n",
    "from __future__ import print_function"
   ]
  },
  {
   "cell_type": "code",
   "execution_count": 10,
   "metadata": {},
   "outputs": [],
   "source": [
    "import os\n",
    "import urllib"
   ]
  },
  {
   "cell_type": "code",
   "execution_count": 15,
   "metadata": {},
   "outputs": [],
   "source": [
    "import numpy as np\n",
    "from urllib.request import urlopen"
   ]
  },
  {
   "cell_type": "code",
   "execution_count": 23,
   "metadata": {
    "collapsed": true
   },
   "outputs": [],
   "source": [
    "# Data sets\n",
    "IRIS_TRAINING = \"iris_training.csv\"\n",
    "IRIS_TRAINING_URL = \"http://download.tensorflow.org/data/iris_training.csv\"\n",
    "\n",
    "IRIS_TEST = \"iris_test.csv\"\n",
    "IRIS_TEST_URL = \"http://download.tensorflow.org/data/iris_test.csv\""
   ]
  },
  {
   "cell_type": "code",
   "execution_count": 30,
   "metadata": {},
   "outputs": [],
   "source": [
    "def main():\n",
    "    # download if file doesn't exist locally\n",
    "    if not os.path.exists(IRIS_TRAINING):\n",
    "        raw = urlopen(IRIS_TRAINING_URL).read()\n",
    "        with open(IRIS_TRAINING, \"w\") as f:\n",
    "            f.write(raw.decode('utf-8'))\n",
    "    if not os.path.exists(IRIS_TEST):\n",
    "        raw = urlopen(IRIS_TEST_URL).read()\n",
    "        with open(IRIS_TEST, \"w\") as f:\n",
    "            f.write(raw.decode('utf-8'))\n",
    "    \n",
    "    # load datasets\n",
    "    training_set = tf.contrib.learn.datasets.base.load_csv_with_header(\n",
    "        filename = IRIS_TRAINING,\n",
    "        target_dtype = np.int,\n",
    "        features_dtype = np.float32\n",
    "    )\n",
    "    test_set = tf.contrib.learn.datasets.base.load_csv_with_header(\n",
    "        filename = IRIS_TEST,\n",
    "        target_dtype = np.int,\n",
    "        features_dtype = np.float32\n",
    "    )\n",
    "    \n",
    "    # Specify that all features have real-value data : 指连续值\n",
    "    feature_columns = [tf.contrib.layers.real_valued_column(\"\", dimension = 4)]\n",
    "    \n",
    "    classifier = tf.contrib.learn.DNNClassifier(feature_columns = feature_columns,\n",
    "                                                hidden_units = [10, 20, 10],\n",
    "                                                n_classes = 3,\n",
    "                                                model_dir = \"./iris_model\"\n",
    "                                               )\n",
    "    \n",
    "    # define the training input\n",
    "    def get_train_inputs():\n",
    "        x = tf.constant(training_set.data)\n",
    "        y = tf.constant(training_set.target)\n",
    "        return x, y\n",
    "    \n",
    "    # fit model\n",
    "    classifier.fit(input_fn = get_train_inputs, steps = 2000)\n",
    "    \n",
    "    # define the test inputs\n",
    "    def get_test_inputs():\n",
    "        x = tf.constant(test_set.data)\n",
    "        y = tf.constant(test_set.target)\n",
    "        return x, y\n",
    "    \n",
    "    # evaluate accuracy\n",
    "    accuracy_score = classifier.evaluate(input_fn = get_test_inputs, steps = 1)[\"accuracy\"]\n",
    "    print(\"\\nTest Accuracy: {0: f}\\n\".format(accuracy_score))\n",
    "    \n",
    "    # classify two new flower samples\n",
    "    def new_samples():\n",
    "        return np.array(\n",
    "        [[6.4, 3.2, 4.5, 1.5],\n",
    "         [5.8, 3.1, 5.0, 1.7]], dtype = np.float32)\n",
    "    \n",
    "    predictions = list(classifier.predict(input_fn = new_samples))\n",
    "    \n",
    "    print(\n",
    "    \"New Sample, Class Prediction:    {}\\n\".format(predictions))"
   ]
  },
  {
   "cell_type": "code",
   "execution_count": 31,
   "metadata": {},
   "outputs": [
    {
     "name": "stdout",
     "output_type": "stream",
     "text": [
      "INFO:tensorflow:Using default config.\n",
      "INFO:tensorflow:Using config: {'_task_type': None, '_task_id': 0, '_cluster_spec': <tensorflow.python.training.server_lib.ClusterSpec object at 0x11adb6630>, '_master': '', '_num_ps_replicas': 0, '_num_worker_replicas': 0, '_environment': 'local', '_is_chief': True, '_evaluation_master': '', '_tf_config': gpu_options {\n",
      "  per_process_gpu_memory_fraction: 1\n",
      "}\n",
      ", '_tf_random_seed': None, '_save_summary_steps': 100, '_save_checkpoints_secs': 600, '_save_checkpoints_steps': None, '_keep_checkpoint_max': 5, '_keep_checkpoint_every_n_hours': 10000, '_model_dir': None}\n",
      "WARNING:tensorflow:From /Users/ihuangyiran/anaconda2/envs/py3-tf/lib/python3.6/site-packages/tensorflow/contrib/learn/python/learn/estimators/head.py:615: scalar_summary (from tensorflow.python.ops.logging_ops) is deprecated and will be removed after 2016-11-30.\n",
      "Instructions for updating:\n",
      "Please switch to tf.summary.scalar. Note that tf.summary.scalar uses the node name instead of the tag. This means that TensorFlow will automatically de-duplicate summary names based on the scope they are created in. Also, passing a tensor or list of tags to a scalar summary op is no longer supported.\n",
      "INFO:tensorflow:Create CheckpointSaverHook.\n",
      "INFO:tensorflow:Restoring parameters from ./iris_model/model.ckpt-4000\n",
      "INFO:tensorflow:Saving checkpoints for 4001 into ./iris_model/model.ckpt.\n",
      "INFO:tensorflow:loss = 0.0284275, step = 4001\n",
      "INFO:tensorflow:global_step/sec: 1047.86\n",
      "INFO:tensorflow:loss = 0.0280637, step = 4101 (0.096 sec)\n",
      "INFO:tensorflow:global_step/sec: 1068\n",
      "INFO:tensorflow:loss = 0.0278228, step = 4201 (0.094 sec)\n",
      "INFO:tensorflow:global_step/sec: 1159.15\n",
      "INFO:tensorflow:loss = 0.0275785, step = 4301 (0.086 sec)\n",
      "INFO:tensorflow:global_step/sec: 1143.17\n",
      "INFO:tensorflow:loss = 0.0275005, step = 4401 (0.087 sec)\n",
      "INFO:tensorflow:global_step/sec: 1153.54\n",
      "INFO:tensorflow:loss = 0.0272937, step = 4501 (0.087 sec)\n",
      "INFO:tensorflow:global_step/sec: 926.646\n",
      "INFO:tensorflow:loss = 0.0267599, step = 4601 (0.108 sec)\n",
      "INFO:tensorflow:global_step/sec: 1042.97\n",
      "INFO:tensorflow:loss = 0.0264405, step = 4701 (0.096 sec)\n",
      "INFO:tensorflow:global_step/sec: 1121.71\n",
      "INFO:tensorflow:loss = 0.0265676, step = 4801 (0.089 sec)\n",
      "INFO:tensorflow:global_step/sec: 1139.04\n",
      "INFO:tensorflow:loss = 0.0262454, step = 4901 (0.088 sec)\n",
      "INFO:tensorflow:global_step/sec: 1172.03\n",
      "INFO:tensorflow:loss = 0.0259759, step = 5001 (0.085 sec)\n",
      "INFO:tensorflow:global_step/sec: 1117.71\n",
      "INFO:tensorflow:loss = 0.0257709, step = 5101 (0.089 sec)\n",
      "INFO:tensorflow:global_step/sec: 1127.08\n",
      "INFO:tensorflow:loss = 0.0255663, step = 5201 (0.089 sec)\n",
      "INFO:tensorflow:global_step/sec: 1136.98\n",
      "INFO:tensorflow:loss = 0.0253394, step = 5301 (0.088 sec)\n",
      "INFO:tensorflow:global_step/sec: 975.751\n",
      "INFO:tensorflow:loss = 0.025108, step = 5401 (0.103 sec)\n",
      "INFO:tensorflow:global_step/sec: 1110.21\n",
      "INFO:tensorflow:loss = 0.0250069, step = 5501 (0.090 sec)\n",
      "INFO:tensorflow:global_step/sec: 1116.55\n",
      "INFO:tensorflow:loss = 0.0248189, step = 5601 (0.089 sec)\n",
      "INFO:tensorflow:global_step/sec: 1141.25\n",
      "INFO:tensorflow:loss = 0.0246239, step = 5701 (0.088 sec)\n",
      "INFO:tensorflow:global_step/sec: 1157.15\n",
      "INFO:tensorflow:loss = 0.0244872, step = 5801 (0.087 sec)\n",
      "INFO:tensorflow:global_step/sec: 1111\n",
      "INFO:tensorflow:loss = 0.0242242, step = 5901 (0.091 sec)\n",
      "INFO:tensorflow:Saving checkpoints for 6000 into ./iris_model/model.ckpt.\n",
      "INFO:tensorflow:Loss for final step: 0.0244735.\n",
      "WARNING:tensorflow:From /Users/ihuangyiran/anaconda2/envs/py3-tf/lib/python3.6/site-packages/tensorflow/contrib/learn/python/learn/estimators/head.py:615: scalar_summary (from tensorflow.python.ops.logging_ops) is deprecated and will be removed after 2016-11-30.\n",
      "Instructions for updating:\n",
      "Please switch to tf.summary.scalar. Note that tf.summary.scalar uses the node name instead of the tag. This means that TensorFlow will automatically de-duplicate summary names based on the scope they are created in. Also, passing a tensor or list of tags to a scalar summary op is no longer supported.\n",
      "INFO:tensorflow:Starting evaluation at 2017-06-11-20:31:44\n",
      "INFO:tensorflow:Restoring parameters from ./iris_model/model.ckpt-6000\n",
      "INFO:tensorflow:Evaluation [1/1]\n",
      "INFO:tensorflow:Finished evaluation at 2017-06-11-20:31:45\n",
      "INFO:tensorflow:Saving dict for global step 6000: accuracy = 0.966667, global_step = 6000, loss = 0.137177\n",
      "WARNING:tensorflow:Skipping summary for global_step, must be a float or np.float32.\n",
      "\n",
      "Test Accuracy:  0.966667\n",
      "\n",
      "WARNING:tensorflow:From /Users/ihuangyiran/anaconda2/envs/py3-tf/lib/python3.6/site-packages/tensorflow/python/util/deprecation.py:335: calling DNNClassifier.predict (from tensorflow.contrib.learn.python.learn.estimators.dnn) with outputs=None is deprecated and will be removed after 2017-03-01.\n",
      "Instructions for updating:\n",
      "Please switch to predict_classes, or set `outputs` argument.\n",
      "INFO:tensorflow:Restoring parameters from ./iris_model/model.ckpt-6000\n",
      "New Sample, Class Prediction:    [1, 1]\n",
      "\n"
     ]
    }
   ],
   "source": [
    "if __name__ == \"__main__\":\n",
    "    main()"
   ]
  },
  {
   "cell_type": "code",
   "execution_count": null,
   "metadata": {
    "collapsed": true
   },
   "outputs": [],
   "source": []
  }
 ],
 "metadata": {
  "kernelspec": {
   "display_name": "Python 3",
   "language": "python",
   "name": "python3"
  },
  "language_info": {
   "codemirror_mode": {
    "name": "ipython",
    "version": 3
   },
   "file_extension": ".py",
   "mimetype": "text/x-python",
   "name": "python",
   "nbconvert_exporter": "python",
   "pygments_lexer": "ipython3",
   "version": "3.6.1"
  }
 },
 "nbformat": 4,
 "nbformat_minor": 2
}
