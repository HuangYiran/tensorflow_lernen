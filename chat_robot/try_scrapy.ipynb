{
 "cells": [
  {
   "cell_type": "code",
   "execution_count": 6,
   "metadata": {},
   "outputs": [],
   "source": [
    "import scrapy\n",
    "import sys\n",
    "from w3lib.html import remove_tags"
   ]
  },
  {
   "cell_type": "code",
   "execution_count": 5,
   "metadata": {
    "collapsed": true
   },
   "outputs": [],
   "source": [
    "class ShareditorSpider(scrapy.Spider):\n",
    "    name = 'shareditor'\n",
    "    start_urls = ['http://www/shareditor.com/']\n",
    "    \n",
    "    def parse(self, response):\n",
    "        for href in response.css('a::atr(href)'):\n",
    "            full_url = response.urljoin(href.extract())\n",
    "            yield scrapy.Request(full_url, callback = self.parse_question)\n",
    "    \n",
    "    def parse_question(self, response):\n",
    "        yield {\n",
    "            'title': response.css('h1 a::text').extract()[0],\n",
    "            'link': response.url\n",
    "        }"
   ]
  },
  {
   "cell_type": "code",
   "execution_count": null,
   "metadata": {
    "collapsed": true
   },
   "outputs": [],
   "source": []
  }
 ],
 "metadata": {
  "kernelspec": {
   "display_name": "Python 3",
   "language": "python",
   "name": "python3"
  },
  "language_info": {
   "codemirror_mode": {
    "name": "ipython",
    "version": 3
   },
   "file_extension": ".py",
   "mimetype": "text/x-python",
   "name": "python",
   "nbconvert_exporter": "python",
   "pygments_lexer": "ipython3",
   "version": "3.6.1"
  }
 },
 "nbformat": 4,
 "nbformat_minor": 2
}
